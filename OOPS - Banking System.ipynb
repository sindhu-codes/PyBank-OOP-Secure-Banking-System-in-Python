{
 "cells": [
  {
   "cell_type": "code",
   "execution_count": 16,
   "id": "2e47a431-cf3d-4ea6-9165-1594d2e110cd",
   "metadata": {},
   "outputs": [],
   "source": [
    "# 1. Base Class\n",
    "class BankAccount:\n",
    "    def __init__(self,acc_no,holder_name,balance=0):\n",
    "        self.acc_no = acc_no\n",
    "        self.holder_name = holder_name\n",
    "        self.__balance = balance\n",
    "    def deposit(self,amount):\n",
    "        if amount > 0:\n",
    "            self.__balance += amount\n",
    "            print(f\"Deposited {amount}. New Balance = {self.__balance}\")\n",
    "        else:\n",
    "            print(\"Invalid deposit amount\")\n",
    "    # Sample withdrawal method example\n",
    "    def withdraw(self,amount):\n",
    "        # Validation Logic\n",
    "        if 0 < amount <= self.__balance:\n",
    "            self.__balance -= amount\n",
    "            print(f\"Withdrawn {amount}. New Balance = {self.__balance}\")\n",
    "        else:\n",
    "            print(\"Insufficient balance or invalid amount\")\n",
    "    def get_balance(self):\n",
    "        return self.__balance\n",
    "    def get_account_number(self):\n",
    "        return self.acc_no"
   ]
  },
  {
   "cell_type": "code",
   "execution_count": 27,
   "id": "b64f42e1-be39-4386-b230-7bb0894ddc55",
   "metadata": {},
   "outputs": [],
   "source": [
    " # 2. Derived Classes\n",
    "class SavingsAccount(BankAccount):\n",
    "    def __init__(self,acc_no,holder_name,balance=0,interest_rate=0.05):\n",
    "        super().__init__(acc_no, holder_name, balance)\n",
    "        self.interest_rate = interest_rate\n",
    "\n",
    "\n",
    "    def add_interest(self):\n",
    "        interest = self.get_balance() * self.interest_rate\n",
    "        self.deposit(interest)\n",
    "        print(f\"Interest {interest} added.\")\n",
    "       \n",
    "\n",
    "\n",
    "class CurrentAccount(BankAccount):\n",
    "    def __init__(self,acc_no,holder_name,balance=0,overdraft_limit=5000):\n",
    "        super().__init__(acc_no, holder_name, balance)\n",
    "        self.overdraft_limit = overdraft_limit\n",
    "\n",
    "\n",
    "    def withdraw(self,amount):\n",
    "        if amount <= self.get_balance() + self.overdraft_limit:\n",
    "    # access private __balance directly or through a method allowing update\n",
    "            self.deposit(-amount)     # name mangling to access private variable\n",
    "            print(f\"Withdrawn {amount} using overdraft facility.\")\n",
    "        else:\n",
    "            print(\"Overdraft limit exceeded.\")\n"
   ]
  },
  {
   "cell_type": "markdown",
   "id": "f4607d55-fd7d-4200-860d-b1a0b1465a08",
   "metadata": {},
   "source": [
    "## Q1. Create a SavingsAccount object for Ravi and deposit 2000. What is his new balance?\n",
    "Hint: Use the deposit() method and then check balance using get_balance()."
   ]
  },
  {
   "cell_type": "code",
   "execution_count": 28,
   "id": "78d1e091-d43a-4221-a949-a71f571336c4",
   "metadata": {},
   "outputs": [],
   "source": [
    "ravi = SavingsAccount(101, \"Ravi\", 0)  #accocunt is created "
   ]
  },
  {
   "cell_type": "code",
   "execution_count": 29,
   "id": "2004f550-c6f5-4a58-b0f2-3948c3485731",
   "metadata": {},
   "outputs": [
    {
     "name": "stdout",
     "output_type": "stream",
     "text": [
      "Deposited 2000. New Balance = 2000\n"
     ]
    }
   ],
   "source": [
    "ravi.deposit(2000)  # amount is deposited in the account"
   ]
  },
  {
   "cell_type": "code",
   "execution_count": 30,
   "id": "60774973-08fd-41df-96d7-f2767b742273",
   "metadata": {},
   "outputs": [
    {
     "name": "stdout",
     "output_type": "stream",
     "text": [
      "2000\n"
     ]
    }
   ],
   "source": [
    "print(ravi.get_balance()) #will check the balance"
   ]
  },
  {
   "cell_type": "markdown",
   "id": "68273de7-a811-49ca-bb75-b5721aee187f",
   "metadata": {},
   "source": [
    "### Q2. Try to withdraw 10000 from Sneha’s SavingsAccount which only has 5000. What happens?\n",
    "Hint: Savings accounts do not allow overdrafts. Look at how withdraw() is implemented in BankAccount."
   ]
  },
  {
   "cell_type": "code",
   "execution_count": 31,
   "id": "aedccc1a-0cd0-4f5c-8991-dcdd5d18d96a",
   "metadata": {},
   "outputs": [],
   "source": [
    "sneha = SavingsAccount(102, \"Sneha\", 5000)   #account is created with 5000 balance "
   ]
  },
  {
   "cell_type": "code",
   "execution_count": 32,
   "id": "bc19ccaf-0edd-4570-95ed-e1f6b32b180a",
   "metadata": {},
   "outputs": [
    {
     "name": "stdout",
     "output_type": "stream",
     "text": [
      "Insufficient balance or invalid amount\n"
     ]
    }
   ],
   "source": [
    "sneha.withdraw(10000) # tried to withdraw 10000"
   ]
  },
  {
   "cell_type": "markdown",
   "id": "3033bd9c-0f68-4082-9ae5-877bda93183e",
   "metadata": {},
   "source": [
    "## Q3. Add interest to Arjun’s SavingsAccount with balance 10000. What will be his new balance?\n",
    "Hint: Use the add_interest() method. Interest rate is 5% of the current balance."
   ]
  },
  {
   "cell_type": "code",
   "execution_count": 33,
   "id": "5a9fb107-b92d-4a9f-8cc2-89813d86f353",
   "metadata": {},
   "outputs": [],
   "source": [
    "arjun = SavingsAccount(103, \"Arjun\", 10000) # account created"
   ]
  },
  {
   "cell_type": "code",
   "execution_count": 34,
   "id": "ce7ed98b-09c3-48a0-8826-727b419c5804",
   "metadata": {},
   "outputs": [
    {
     "name": "stdout",
     "output_type": "stream",
     "text": [
      "Deposited 500.0. New Balance = 10500.0\n",
      "Interest 500.0 added.\n"
     ]
    }
   ],
   "source": [
    "arjun.add_interest() # method is used"
   ]
  },
  {
   "cell_type": "code",
   "execution_count": 35,
   "id": "2b05955b-4ada-429e-9c1a-b4f90f674d00",
   "metadata": {},
   "outputs": [
    {
     "name": "stdout",
     "output_type": "stream",
     "text": [
      "10500.0\n"
     ]
    }
   ],
   "source": [
    "print(arjun.get_balance())"
   ]
  },
  {
   "cell_type": "markdown",
   "id": "c79de924-b81c-4cec-8409-f13e232440a0",
   "metadata": {},
   "source": [
    "## Q4. Create a CurrentAccount for Priya with 2000 and withdraw 6000. Is it allowed? Why?\n",
    "Hint: Current accounts allow overdrafts up to -5000. Check how withdraw() in CurrentAccount is different."
   ]
  },
  {
   "cell_type": "code",
   "execution_count": 36,
   "id": "601b73c3-ca24-4fdc-8450-630fea3487b7",
   "metadata": {},
   "outputs": [],
   "source": [
    "priya = CurrentAccount(104,\"priya\", 2000) #created a current account"
   ]
  },
  {
   "cell_type": "code",
   "execution_count": 38,
   "id": "fcd07152-c6fe-459d-8a3c-6cecd24b7f75",
   "metadata": {},
   "outputs": [
    {
     "name": "stdout",
     "output_type": "stream",
     "text": [
      "Invalid deposit amount\n",
      "Withdrawn 6000 using overdraft facility.\n"
     ]
    }
   ],
   "source": [
    "priya.withdraw(6000) "
   ]
  },
  {
   "cell_type": "code",
   "execution_count": 39,
   "id": "089385ef-b0c6-4c65-ac9d-dc8261b8cc2e",
   "metadata": {},
   "outputs": [
    {
     "name": "stdout",
     "output_type": "stream",
     "text": [
      "2000\n"
     ]
    }
   ],
   "source": [
    "print(priya.get_balance())"
   ]
  },
  {
   "cell_type": "markdown",
   "id": "576b2426-08e2-4c3f-adb9-ea4e714e7539",
   "metadata": {},
   "source": [
    "## Q5. Try to directly access __balance of Meera’s account outside the class. What error do you get?\n",
    "Hint: Remember that variables with __ (double underscores) are private and use name mangling."
   ]
  },
  {
   "cell_type": "code",
   "execution_count": 40,
   "id": "16e8e59b-bdfe-44a5-8d09-c574ee12bce0",
   "metadata": {},
   "outputs": [],
   "source": [
    "meera = SavingsAccount(105, \"Meera\", 3000)"
   ]
  },
  {
   "cell_type": "code",
   "execution_count": 41,
   "id": "46a43184-708d-4769-a1d5-44b64710ccc9",
   "metadata": {},
   "outputs": [
    {
     "ename": "AttributeError",
     "evalue": "'SavingsAccount' object has no attribute '__balance'",
     "output_type": "error",
     "traceback": [
      "\u001b[1;31m---------------------------------------------------------------------------\u001b[0m",
      "\u001b[1;31mAttributeError\u001b[0m                            Traceback (most recent call last)",
      "Cell \u001b[1;32mIn[41], line 1\u001b[0m\n\u001b[1;32m----> 1\u001b[0m \u001b[38;5;28mprint\u001b[39m(meera\u001b[38;5;241m.\u001b[39m__balance)\n",
      "\u001b[1;31mAttributeError\u001b[0m: 'SavingsAccount' object has no attribute '__balance'"
     ]
    }
   ],
   "source": [
    "print(meera.__balance) # __balance is private "
   ]
  },
  {
   "cell_type": "markdown",
   "id": "51350d9f-f335-4c92-b7b5-ecefe2f845c0",
   "metadata": {},
   "source": [
    "#### Trying to access the private attribute __balance directly from outside the class raises an AttributeError because Python uses name mangling to rename such private variables internally \n",
    "\n",
    "#### (e.g., to _BankAccount__balance). \n",
    "\n",
    "#### This mechanism prevents direct external access to private variables, enforcing encapsulation"
   ]
  },
  {
   "cell_type": "code",
   "execution_count": 42,
   "id": "bdba3253-6c1b-4b2f-a9eb-a02f0948ebb0",
   "metadata": {},
   "outputs": [
    {
     "data": {
      "text/plain": [
       "['__class__',\n",
       " '__delattr__',\n",
       " '__dict__',\n",
       " '__dir__',\n",
       " '__doc__',\n",
       " '__eq__',\n",
       " '__firstlineno__',\n",
       " '__format__',\n",
       " '__ge__',\n",
       " '__getattribute__',\n",
       " '__getstate__',\n",
       " '__gt__',\n",
       " '__hash__',\n",
       " '__init__',\n",
       " '__init_subclass__',\n",
       " '__le__',\n",
       " '__lt__',\n",
       " '__module__',\n",
       " '__ne__',\n",
       " '__new__',\n",
       " '__reduce__',\n",
       " '__reduce_ex__',\n",
       " '__repr__',\n",
       " '__setattr__',\n",
       " '__sizeof__',\n",
       " '__static_attributes__',\n",
       " '__str__',\n",
       " '__subclasshook__',\n",
       " '__weakref__',\n",
       " 'deposit',\n",
       " 'get_account_number',\n",
       " 'get_balance',\n",
       " 'withdraw']"
      ]
     },
     "execution_count": 42,
     "metadata": {},
     "output_type": "execute_result"
    }
   ],
   "source": [
    "dir(BankAccount)"
   ]
  },
  {
   "cell_type": "code",
   "execution_count": 43,
   "id": "c8de309d-cc64-468c-9ca1-063987c2181f",
   "metadata": {},
   "outputs": [
    {
     "data": {
      "text/plain": [
       "3000"
      ]
     },
     "execution_count": 43,
     "metadata": {},
     "output_type": "execute_result"
    }
   ],
   "source": [
    "meera._BankAccount__balance   \n",
    "# we have called the private variable. (This practice is not recommended)"
   ]
  },
  {
   "cell_type": "markdown",
   "id": "aca07739-5c2f-4adb-923c-4607f053ef8c",
   "metadata": {},
   "source": [
    "## Q6. Which OOPS concept is shown when withdraw() behaves differently for SavingsAccount (Ravi) and CurrentAccount (Priya)?\n",
    "Hint: Same method name, different behavior → This is a classic OOPS principle."
   ]
  },
  {
   "cell_type": "markdown",
   "id": "683d5206-b461-4771-9e93-e453c68f9b59",
   "metadata": {},
   "source": [
    "## Polymorphism (Method overriding): Same method name but different behavior"
   ]
  },
  {
   "cell_type": "code",
   "execution_count": 46,
   "id": "ae57085c-5be3-4143-b347-19f6cc55bd22",
   "metadata": {},
   "outputs": [
    {
     "name": "stdout",
     "output_type": "stream",
     "text": [
      "Withdrawn 200. New Balance = 1600\n"
     ]
    }
   ],
   "source": [
    "ravi.withdraw(200)  # Savings account "
   ]
  },
  {
   "cell_type": "code",
   "execution_count": 47,
   "id": "50d53692-9c2f-47e1-933e-a9f2562d7d6a",
   "metadata": {},
   "outputs": [
    {
     "name": "stdout",
     "output_type": "stream",
     "text": [
      "Invalid deposit amount\n",
      "Withdrawn 200 using overdraft facility.\n"
     ]
    }
   ],
   "source": [
    "priya.withdraw(200)  # current account "
   ]
  },
  {
   "cell_type": "code",
   "execution_count": null,
   "id": "5f90ae81-fb38-4d68-9a58-047fdecdd225",
   "metadata": {},
   "outputs": [],
   "source": []
  },
  {
   "cell_type": "code",
   "execution_count": null,
   "id": "1a5bafb2-13d0-4c1c-9b92-956f1b1790a3",
   "metadata": {},
   "outputs": [],
   "source": []
  },
  {
   "cell_type": "code",
   "execution_count": null,
   "id": "396d1c2b-d8e9-42e8-b285-229014e00a0a",
   "metadata": {},
   "outputs": [],
   "source": []
  },
  {
   "cell_type": "code",
   "execution_count": null,
   "id": "f9620550-0562-4a74-bfe4-b44ce1858956",
   "metadata": {},
   "outputs": [],
   "source": []
  },
  {
   "cell_type": "code",
   "execution_count": null,
   "id": "4b7f1c25-7977-4a69-a36d-fc18e73f7f16",
   "metadata": {},
   "outputs": [],
   "source": []
  },
  {
   "cell_type": "code",
   "execution_count": null,
   "id": "59e178f8-8c8a-4e87-a1b7-3dfa3c68dc5e",
   "metadata": {},
   "outputs": [],
   "source": []
  },
  {
   "cell_type": "code",
   "execution_count": null,
   "id": "2e805bae-5ce0-434d-9f6c-fd9002462ff1",
   "metadata": {},
   "outputs": [],
   "source": []
  },
  {
   "cell_type": "code",
   "execution_count": null,
   "id": "3800b907-e53c-4d3d-9797-62619a83749e",
   "metadata": {},
   "outputs": [],
   "source": []
  },
  {
   "cell_type": "code",
   "execution_count": null,
   "id": "b6c40724-0227-446c-bc1d-7ae0e5c2ef9a",
   "metadata": {},
   "outputs": [],
   "source": []
  },
  {
   "cell_type": "code",
   "execution_count": null,
   "id": "24756572-81b7-456f-990c-002a4e1f22d5",
   "metadata": {},
   "outputs": [],
   "source": []
  },
  {
   "cell_type": "code",
   "execution_count": null,
   "id": "a820b7bb-fadd-40bb-a54d-13c31d867472",
   "metadata": {},
   "outputs": [],
   "source": []
  },
  {
   "cell_type": "code",
   "execution_count": null,
   "id": "0fea3f7a-d641-4f28-8513-541abe3c1f58",
   "metadata": {},
   "outputs": [],
   "source": []
  },
  {
   "cell_type": "code",
   "execution_count": null,
   "id": "a6fc4c12-8dfb-4ccd-853e-6ecdddca1b49",
   "metadata": {},
   "outputs": [],
   "source": []
  },
  {
   "cell_type": "code",
   "execution_count": null,
   "id": "3f844b3c-9a94-4819-8a28-8eb7f30dd797",
   "metadata": {},
   "outputs": [],
   "source": []
  },
  {
   "cell_type": "code",
   "execution_count": null,
   "id": "2a09afaf-acfd-4c24-84f5-ab77e1c27eb4",
   "metadata": {},
   "outputs": [],
   "source": []
  },
  {
   "cell_type": "code",
   "execution_count": null,
   "id": "557892bb-9e7b-4bfc-8eab-72401333d3b9",
   "metadata": {},
   "outputs": [],
   "source": []
  },
  {
   "cell_type": "code",
   "execution_count": null,
   "id": "9fd52cac-49ed-4f1c-a0f4-e7b379c891a9",
   "metadata": {},
   "outputs": [],
   "source": []
  },
  {
   "cell_type": "code",
   "execution_count": null,
   "id": "796d11f7-6088-4435-bf8a-6185c0d08f6f",
   "metadata": {},
   "outputs": [],
   "source": []
  },
  {
   "cell_type": "code",
   "execution_count": null,
   "id": "92eafd67-5979-4149-b048-06198d2dc3d0",
   "metadata": {},
   "outputs": [],
   "source": []
  },
  {
   "cell_type": "code",
   "execution_count": null,
   "id": "ac9d9906-4dda-4cf0-88ee-1c3e2b328c91",
   "metadata": {},
   "outputs": [],
   "source": []
  },
  {
   "cell_type": "code",
   "execution_count": null,
   "id": "57aa5400-b8a8-4183-a233-5f695e8db54a",
   "metadata": {},
   "outputs": [],
   "source": []
  },
  {
   "cell_type": "code",
   "execution_count": null,
   "id": "4aea0ef6-af57-489b-8a95-62dcff8dc01f",
   "metadata": {},
   "outputs": [],
   "source": []
  },
  {
   "cell_type": "code",
   "execution_count": null,
   "id": "b5bc91bc-13e5-4466-9b6d-44b1eab7f373",
   "metadata": {},
   "outputs": [],
   "source": []
  },
  {
   "cell_type": "code",
   "execution_count": null,
   "id": "0d89da07-8fd2-42f1-bf1c-3f0101c45f55",
   "metadata": {},
   "outputs": [],
   "source": []
  },
  {
   "cell_type": "code",
   "execution_count": null,
   "id": "473b6f9d-8478-4b45-8ece-13ec8f2cd60c",
   "metadata": {},
   "outputs": [],
   "source": []
  },
  {
   "cell_type": "code",
   "execution_count": null,
   "id": "8b4b47f2-315e-4a95-a8d4-04f1060cc80d",
   "metadata": {},
   "outputs": [],
   "source": []
  },
  {
   "cell_type": "code",
   "execution_count": null,
   "id": "b4be3912-022e-473f-9124-353d5a25e366",
   "metadata": {},
   "outputs": [],
   "source": []
  },
  {
   "cell_type": "code",
   "execution_count": null,
   "id": "81c571a8-d42d-4076-a8bb-86cf97bf8018",
   "metadata": {},
   "outputs": [],
   "source": []
  },
  {
   "cell_type": "code",
   "execution_count": null,
   "id": "966fc53c-8cb9-48a2-9f68-61db60fa3806",
   "metadata": {},
   "outputs": [],
   "source": []
  },
  {
   "cell_type": "code",
   "execution_count": null,
   "id": "d3d7fd59-e52c-40f4-8ced-b1f1400ecd88",
   "metadata": {},
   "outputs": [],
   "source": []
  },
  {
   "cell_type": "code",
   "execution_count": null,
   "id": "938351d0-dcf0-46cc-9377-515e4f02b1c3",
   "metadata": {},
   "outputs": [],
   "source": []
  },
  {
   "cell_type": "code",
   "execution_count": null,
   "id": "0fc631ba-37e3-454e-bff9-dd45253c3033",
   "metadata": {},
   "outputs": [],
   "source": []
  },
  {
   "cell_type": "code",
   "execution_count": null,
   "id": "42694d00-7795-4bf3-bbab-319b453928c7",
   "metadata": {},
   "outputs": [],
   "source": []
  },
  {
   "cell_type": "code",
   "execution_count": null,
   "id": "1648b19a-468e-4e7a-95fb-304ea5c6608c",
   "metadata": {},
   "outputs": [],
   "source": []
  },
  {
   "cell_type": "code",
   "execution_count": null,
   "id": "3f07a4f8-fdfc-4715-84de-ae9c7732a80a",
   "metadata": {},
   "outputs": [],
   "source": []
  },
  {
   "cell_type": "code",
   "execution_count": null,
   "id": "bd74210b-f8e4-4884-98d5-71a10ae30438",
   "metadata": {},
   "outputs": [],
   "source": []
  },
  {
   "cell_type": "code",
   "execution_count": null,
   "id": "dcdc46d8-17e0-495b-9818-a44b8a5aa2cc",
   "metadata": {},
   "outputs": [],
   "source": []
  },
  {
   "cell_type": "code",
   "execution_count": null,
   "id": "9e5befad-a6ab-4f54-b7f9-da8d25a110df",
   "metadata": {},
   "outputs": [],
   "source": []
  },
  {
   "cell_type": "code",
   "execution_count": null,
   "id": "aab364e7-06dd-4cf1-b57a-e09d26ade1ec",
   "metadata": {},
   "outputs": [],
   "source": []
  },
  {
   "cell_type": "code",
   "execution_count": null,
   "id": "4b1a9a77-7256-4847-96c5-6a21ffa5a746",
   "metadata": {},
   "outputs": [],
   "source": []
  },
  {
   "cell_type": "code",
   "execution_count": null,
   "id": "4b619076-c148-40ea-8eb3-651d9142c00e",
   "metadata": {},
   "outputs": [],
   "source": []
  },
  {
   "cell_type": "code",
   "execution_count": null,
   "id": "7df32008-e148-49be-9b88-48f086f354d2",
   "metadata": {},
   "outputs": [],
   "source": []
  },
  {
   "cell_type": "code",
   "execution_count": null,
   "id": "9f0a1583-5352-4a02-9adc-49ec49d75f23",
   "metadata": {},
   "outputs": [],
   "source": []
  },
  {
   "cell_type": "code",
   "execution_count": null,
   "id": "f31d1fb9-c583-4355-91df-4dad1c52a8b5",
   "metadata": {},
   "outputs": [],
   "source": []
  },
  {
   "cell_type": "code",
   "execution_count": null,
   "id": "e6bc4621-9529-4f00-9355-8587e17efc2e",
   "metadata": {},
   "outputs": [],
   "source": []
  },
  {
   "cell_type": "code",
   "execution_count": null,
   "id": "3290f484-41f4-4fc6-ae90-c2d4db443001",
   "metadata": {},
   "outputs": [],
   "source": []
  },
  {
   "cell_type": "code",
   "execution_count": null,
   "id": "5d452f55-2f4a-42d5-8a7f-8d1b4b4d5053",
   "metadata": {},
   "outputs": [],
   "source": []
  }
 ],
 "metadata": {
  "kernelspec": {
   "display_name": "Python [conda env:base] *",
   "language": "python",
   "name": "conda-base-py"
  },
  "language_info": {
   "codemirror_mode": {
    "name": "ipython",
    "version": 3
   },
   "file_extension": ".py",
   "mimetype": "text/x-python",
   "name": "python",
   "nbconvert_exporter": "python",
   "pygments_lexer": "ipython3",
   "version": "3.13.5"
  }
 },
 "nbformat": 4,
 "nbformat_minor": 5
}
